{
 "cells": [
  {
   "cell_type": "markdown",
   "id": "1aa87009",
   "metadata": {},
   "source": [
    "# Siamese Facial Recognition Model \n",
    "\n"
   ]
  },
  {
   "cell_type": "markdown",
   "id": "6e9b72d2",
   "metadata": {},
   "source": [
    " A Siamese Neural Network is a type of neural network architecture that involves two or more (in this case two) identical subnetworks that share the same weights and are used to compare or find the similarity between two inputs. It is commonly used in image recognition, signature verification, and natural language processing tasks.\n",
    " \n",
    " \n",
    " \n",
    " "
   ]
  },
  {
   "cell_type": "code",
   "execution_count": 1,
   "id": "3ce53751",
   "metadata": {},
   "outputs": [],
   "source": [
    "import cv2\n",
    "import os\n",
    "import random\n",
    "import numpy as np\n",
    "import matplotlib.pyplot as plt"
   ]
  },
  {
   "cell_type": "markdown",
   "id": "fecc25ea",
   "metadata": {},
   "source": [
    "#### Here are our steps:\n",
    "\n",
    "\n",
    "##### 1. Designing the Siamese Model \n",
    "\n",
    "##### 2. Importing and Preprocessing Data\n",
    "\n",
    "##### 3. Training\n"
   ]
  },
  {
   "attachments": {
    "download.png": {
     "image/png": "[encoded data removed]"
    }
   },
   "cell_type": "markdown",
   "id": "65df98b0",
   "metadata": {},
   "source": [
    "### 1. Designing the Model\n",
    "\n",
    "Following picture summarizes our neural network architecture (Koch & et al, 2015):\n",
    "\n",
    "#### ![download.png](attachment:download.png)"
   ]
  },
  {
   "cell_type": "code",
   "execution_count": 2,
   "id": "36569a7e",
   "metadata": {},
   "outputs": [],
   "source": [
    "from tensorflow.keras.models import Model\n",
    "from tensorflow.keras.layers import Layer, Conv2D, Dense, MaxPooling2D, Input, Flatten  #importing different level types\n",
    "import tensorflow as tf"
   ]
  },
  {
   "cell_type": "markdown",
   "id": "efcf239e",
   "metadata": {},
   "source": [
    "##### defining layers in the model"
   ]
  },
  {
   "cell_type": "code",
   "execution_count": 3,
   "id": "2ac01f31",
   "metadata": {},
   "outputs": [],
   "source": [
    "def make_embedding():\n",
    "    \n",
    "    inp = Input(shape = (105,105,3))   \n",
    "    c1 = Conv2D(64, (10,10), activation='relu')(inp)\n",
    "    m1 = MaxPooling2D(64,(2,2), padding='same')(c1)\n",
    "    \n",
    "    c2= Conv2D(128,(7,7), activation='relu')(m1)\n",
    "    m2=MaxPooling2D(64, (2,2), padding='same')(c2)\n",
    "    \n",
    "    c3 = Conv2D(128,(4,4), activation='relu')(m2)\n",
    "    m3 = MaxPooling2D(64,(2,2), padding='same')(c3)\n",
    "    \n",
    "    c4 = Conv2D(256,(4,4),padding='same')(m3)\n",
    "    f1 = Flatten()(c4)\n",
    "    d1=Dense(4096, activation='sigmoid')(f1)\n",
    "    \n",
    "    return Model(inputs= [inp], outputs=[d1], name='make_embedding' )"
   ]
  },
  {
   "cell_type": "code",
   "execution_count": 4,
   "id": "0e5273df",
   "metadata": {},
   "outputs": [
    {
     "name": "stdout",
     "output_type": "stream",
     "text": [
      "Model: \"make_embedding\"\n",
      "_________________________________________________________________\n",
      " Layer (type)                Output Shape              Param #   \n",
      "=================================================================\n",
      " input_1 (InputLayer)        [(None, 105, 105, 3)]     0         \n",
      "                                                                 \n",
      " conv2d (Conv2D)             (None, 96, 96, 64)        19264     \n",
      "                                                                 \n",
      " max_pooling2d (MaxPooling2D  (None, 48, 48, 64)       0         \n",
      " )                                                               \n",
      "                                                                 \n",
      " conv2d_1 (Conv2D)           (None, 42, 42, 128)       401536    \n",
      "                                                                 \n",
      " max_pooling2d_1 (MaxPooling  (None, 21, 21, 128)      0         \n",
      " 2D)                                                             \n",
      "                                                                 \n",
      " conv2d_2 (Conv2D)           (None, 18, 18, 128)       262272    \n",
      "                                                                 \n",
      " max_pooling2d_2 (MaxPooling  (None, 9, 9, 128)        0         \n",
      " 2D)                                                             \n",
      "                                                                 \n",
      " conv2d_3 (Conv2D)           (None, 9, 9, 256)         524544    \n",
      "                                                                 \n",
      " flatten (Flatten)           (None, 20736)             0         \n",
      "                                                                 \n",
      " dense (Dense)               (None, 4096)              84938752  \n",
      "                                                                 \n",
      "=================================================================\n",
      "Total params: 86,146,368\n",
      "Trainable params: 86,146,368\n",
      "Non-trainable params: 0\n",
      "_________________________________________________________________\n"
     ]
    }
   ],
   "source": [
    "make_embedding = make_embedding()\n",
    "make_embedding.summary()"
   ]
  },
  {
   "cell_type": "markdown",
   "id": "3ad6a6c6",
   "metadata": {},
   "source": [
    "##### defining the distance custom layer "
   ]
  },
  {
   "cell_type": "code",
   "execution_count": 5,
   "id": "8501398d",
   "metadata": {},
   "outputs": [],
   "source": [
    "class L1Distance(Layer):\n",
    "    \n",
    "    def __init__(self, **kwargs):\n",
    "        super().__init__()\n",
    "    \n",
    "    def call(self, input_embedding, validation_embedding):\n",
    "        return tf.math.abs(input_embedding - validation_embedding)"
   ]
  },
  {
   "cell_type": "markdown",
   "id": "50e9f12a",
   "metadata": {},
   "source": [
    "##### now that all layers are created, we can man our Siamese Model"
   ]
  },
  {
   "cell_type": "code",
   "execution_count": 6,
   "id": "161f09a8",
   "metadata": {},
   "outputs": [],
   "source": [
    "def make_siamese_model():\n",
    "    \n",
    "    input_image = Input(name='input_img', shape=(105,105,3))\n",
    "    \n",
    "    validation_image = Input(name = 'validation_image', shape = (105,105,3))\n",
    "    \n",
    "    siamese = L1Distance()\n",
    "    \n",
    "    distance = siamese(make_embedding(input_image), make_embedding(validation_image))\n",
    "    \n",
    "    #creating the last layer, 1*1 inary classifier\n",
    "    \n",
    "    classifier = Dense(1, activation='sigmoid')(distance)\n",
    "    \n",
    "    return Model(inputs = [input_image, validation_image], outputs = classifier, name = 'siamese_model' )"
   ]
  },
  {
   "cell_type": "code",
   "execution_count": 7,
   "id": "c40f8618",
   "metadata": {},
   "outputs": [
    {
     "name": "stdout",
     "output_type": "stream",
     "text": [
      "Model: \"siamese_model\"\n",
      "__________________________________________________________________________________________________\n",
      " Layer (type)                   Output Shape         Param #     Connected to                     \n",
      "==================================================================================================\n",
      " input_img (InputLayer)         [(None, 105, 105, 3  0           []                               \n",
      "                                )]                                                                \n",
      "                                                                                                  \n",
      " validation_image (InputLayer)  [(None, 105, 105, 3  0           []                               \n",
      "                                )]                                                                \n",
      "                                                                                                  \n",
      " make_embedding (Functional)    (None, 4096)         86146368    ['input_img[0][0]',              \n",
      "                                                                  'validation_image[0][0]']       \n",
      "                                                                                                  \n",
      " l1_distance (L1Distance)       (None, 4096)         0           ['make_embedding[0][0]',         \n",
      "                                                                  'make_embedding[1][0]']         \n",
      "                                                                                                  \n",
      " dense_1 (Dense)                (None, 1)            4097        ['l1_distance[0][0]']            \n",
      "                                                                                                  \n",
      "==================================================================================================\n",
      "Total params: 86,150,465\n",
      "Trainable params: 86,150,465\n",
      "Non-trainable params: 0\n",
      "__________________________________________________________________________________________________\n"
     ]
    }
   ],
   "source": [
    "siamese_model = make_siamese_model()\n",
    "siamese_model.summary()"
   ]
  },
  {
   "attachments": {
    "Picture1.png": {
     "image/png": "[encoded data removed]"
    }
   },
   "cell_type": "markdown",
   "id": "6e3d6f71",
   "metadata": {},
   "source": [
    "##### here is a summary of what we did so far\n",
    "\n",
    "![Picture1.png](attachment:Picture1.png)"
   ]
  },
  {
   "cell_type": "markdown",
   "id": "942bd3e4",
   "metadata": {},
   "source": [
    "# 2. Importing and Preprocessing Data\n",
    "\n",
    "\n",
    "##### for this project I have used Kaggle LFW Face Recognition data. You may download it using following link: https://www.kaggle.com/datasets/atulanandjha/lfwpeople"
   ]
  },
  {
   "cell_type": "code",
   "execution_count": null,
   "id": "63910a26",
   "metadata": {},
   "outputs": [],
   "source": [
    "!tar -xf lfw-funneled.tgz"
   ]
  },
  {
   "cell_type": "markdown",
   "id": "3db68db7",
   "metadata": {},
   "source": [
    "##### We should move all images in the data set into one folder, Negative folder."
   ]
  },
  {
   "cell_type": "code",
   "execution_count": 8,
   "id": "8f01bc3c",
   "metadata": {},
   "outputs": [],
   "source": [
    "Positive = os.path.join('data', 'positive')\n",
    "Negative = os.path.join ('data', 'Negative')\n",
    "Anchor = os.path.join('data', 'anchor')"
   ]
  },
  {
   "cell_type": "code",
   "execution_count": null,
   "id": "026d7058",
   "metadata": {},
   "outputs": [],
   "source": [
    "os.makedirs(Positive)\n",
    "os.makedirs(Negative)\n",
    "os.makedirs(Anchor)"
   ]
  },
  {
   "cell_type": "markdown",
   "id": "65026645",
   "metadata": {},
   "source": [
    "##### Note: in the data set there are some files called Pair. remove them from the data set and then run following codes. "
   ]
  },
  {
   "cell_type": "code",
   "execution_count": 9,
   "id": "89bc237c",
   "metadata": {
    "collapsed": true
   },
   "outputs": [
    {
     "name": "stderr",
     "output_type": "stream",
     "text": [
      "ERROR:root:Internal Python error in the inspect module.\n",
      "Below is the traceback from this internal error.\n",
      "\n",
      "\n",
      "KeyboardInterrupt\n",
      "\n"
     ]
    }
   ],
   "source": [
    "for folder in os.listdir('lfw_funneled/'):\n",
    "    for file in os.listdir(os.path.join('lfw_funneled/', folder)):\n",
    "        expired_path = os.path.join('lfw_funneled/', folder, file)\n",
    "        new_path = os.path.join(Negative, file)\n",
    "        os.replace(expired_path, new_path)"
   ]
  },
  {
   "cell_type": "markdown",
   "id": "98e75b4b",
   "metadata": {},
   "source": [
    "##### now that we collect our negative example, it is time to collect positive and anchor data. "
   ]
  },
  {
   "cell_type": "code",
   "execution_count": null,
   "id": "174b92b3",
   "metadata": {},
   "outputs": [],
   "source": [
    "import uuid"
   ]
  },
  {
   "cell_type": "code",
   "execution_count": null,
   "id": "9a746a25",
   "metadata": {},
   "outputs": [],
   "source": [
    "cap = cv2.VideoCapture(1)\n",
    "\n",
    "while True:\n",
    "    ret, frame = cap.read()\n",
    "    if ret:\n",
    "        frame = frame[120:120+250,200:200+250,:] \n",
    "    \n",
    "    if cv2.waitKey(120) & 0xff== ord('a'):\n",
    "        image = os.path.join(Anchor, '{}.jpg'.format(uuid.uuid4()))\n",
    "        \n",
    "        cv2.imwrite(image, frame)\n",
    "        \n",
    "    if cv2.waitKey(1) & 0xff ==ord('p'):\n",
    "        image2 = os.path.join(Positive, '{}.jpg'.format(uuid.uuid4()))\n",
    "        \n",
    "        cv2.imwrite(image2, frame)\n",
    "        \n",
    "    cv2.imshow('frame', frame)\n",
    "    \n",
    "    if cv2.waitKey(1) & 0xff == ord('q'):\n",
    "        break\n",
    "\n",
    "        \n",
    "cap.release()\n",
    "cv2.destroyAllWindows()\n",
    "    \n",
    "    \n",
    "    "
   ]
  },
  {
   "cell_type": "markdown",
   "id": "23f16e52",
   "metadata": {},
   "source": [
    "##### Creating our data sets\n",
    "\n",
    "using 'tf.data.Dataset.list_files' we create a dataset y loading data from files"
   ]
  },
  {
   "cell_type": "code",
   "execution_count": 9,
   "id": "061d7632",
   "metadata": {},
   "outputs": [],
   "source": [
    "anchor = tf.data.Dataset.list_files(Anchor+'/*.jpg').take(300)\n",
    "positive = tf.data.Dataset.list_files(Positive+'/*.jpg').take(300)\n",
    "negative = tf.data.Dataset.list_files(Negative+'/*.jpg').take(300)\n",
    "\n"
   ]
  },
  {
   "cell_type": "code",
   "execution_count": 10,
   "id": "074406c2",
   "metadata": {},
   "outputs": [
    {
     "data": {
      "text/plain": [
       "b'data\\\\anchor\\\\05dad971-f0e3-42c7-a912-4ac61cf1aad1.jpg'"
      ]
     },
     "execution_count": 10,
     "metadata": {},
     "output_type": "execute_result"
    }
   ],
   "source": [
    "anchor.as_numpy_iterator().next()"
   ]
  },
  {
   "cell_type": "markdown",
   "id": "b87438fb",
   "metadata": {},
   "source": [
    "##### Preprocessing data\n",
    "as the input of the system is 105*105 px images, we should change all images' size"
   ]
  },
  {
   "cell_type": "code",
   "execution_count": 11,
   "id": "c6cb1906",
   "metadata": {},
   "outputs": [],
   "source": [
    "def processing(path):\n",
    "    \n",
    "    img = tf.io.read_file(path)\n",
    "    \n",
    "    decoded_img = tf.image.decode_jpeg(img)\n",
    "    \n",
    "    resized_img = tf.image.resize(decoded_img, [105,105])\n",
    "    \n",
    "    normalized_img = resized_img/255\n",
    "    \n",
    "    return normalized_img"
   ]
  },
  {
   "cell_type": "code",
   "execution_count": 12,
   "id": "3fa18bdd",
   "metadata": {},
   "outputs": [],
   "source": [
    "img = processing('data\\\\anchor\\\\fbb08473-6e7c-49e3-b9a6-c2b0035e3918.jpg')"
   ]
  },
  {
   "cell_type": "code",
   "execution_count": 13,
   "id": "db02983d",
   "metadata": {},
   "outputs": [
    {
     "data": {
      "text/plain": [
       "1.0"
      ]
     },
     "execution_count": 13,
     "metadata": {},
     "output_type": "execute_result"
    }
   ],
   "source": [
    "img.numpy().max()"
   ]
  },
  {
   "cell_type": "markdown",
   "id": "d6b54026",
   "metadata": {},
   "source": [
    "##### adding lable to positive and negative examples"
   ]
  },
  {
   "cell_type": "code",
   "execution_count": 14,
   "id": "5f63038f",
   "metadata": {},
   "outputs": [],
   "source": [
    "positive_lable = tf.data.Dataset.from_tensor_slices(tf.ones(len(anchor)))\n",
    "negative_lable = tf.data.Dataset.from_tensor_slices(tf.zeros(len(anchor)))\n",
    "\n",
    "## combining anchor, positive/ negative , and lable data set using Zip\n",
    "\n",
    "labled_positive = tf.data.Dataset.zip((anchor, positive, positive_lable))\n",
    "\n",
    "labled_negative = tf.data.Dataset.zip((anchor, positive, negative_lable))\n",
    "\n",
    "data = labled_positive.concatenate(labled_negative)"
   ]
  },
  {
   "cell_type": "code",
   "execution_count": 15,
   "id": "724cc633",
   "metadata": {},
   "outputs": [
    {
     "data": {
      "text/plain": [
       "(b'data\\\\anchor\\\\ba969232-967b-4ecd-b68c-db00f82affe6.jpg',\n",
       " b'data\\\\positive\\\\c91025e1-da08-4f89-81f3-cd58130691e5.jpg',\n",
       " 1.0)"
      ]
     },
     "execution_count": 15,
     "metadata": {},
     "output_type": "execute_result"
    }
   ],
   "source": [
    "example = data.as_numpy_iterator()\n",
    "\n",
    "example= example.next()\n",
    "\n",
    "example\n"
   ]
  },
  {
   "cell_type": "code",
   "execution_count": 16,
   "id": "61fd6f01",
   "metadata": {},
   "outputs": [],
   "source": [
    "def processing_twin(input_img, validation_img, lable):\n",
    "    return (processing(input_img), processing(validation_img), lable)\n",
    "    "
   ]
  },
  {
   "cell_type": "code",
   "execution_count": 17,
   "id": "1110b45e",
   "metadata": {
    "code_folding": [
     2
    ]
   },
   "outputs": [],
   "source": [
    "data = data.map(processing_twin)\n",
    "\n",
    "#Caching can help to speed up the training process, \n",
    "#especially if you have a large dataset that takes a long time to load. \n",
    "#By default, the cache() method caches the dataset in memory, but you can also pass a filename to cache the dataset on disk instead.\n",
    "data = data.cache() \n",
    "\n",
    "data = data.shuffle(buffer_size = 1024)"
   ]
  },
  {
   "cell_type": "code",
   "execution_count": 18,
   "id": "c39b8b0a",
   "metadata": {},
   "outputs": [
    {
     "data": {
      "text/plain": [
       "3"
      ]
     },
     "execution_count": 18,
     "metadata": {},
     "output_type": "execute_result"
    }
   ],
   "source": [
    "sam = data.as_numpy_iterator()\n",
    "len(sam.next())"
   ]
  },
  {
   "cell_type": "markdown",
   "id": "2024a1be",
   "metadata": {},
   "source": [
    "# 3. Training\n",
    "\n",
    "##### Deviding data into training set and test set"
   ]
  },
  {
   "cell_type": "code",
   "execution_count": 19,
   "id": "7bef112b",
   "metadata": {},
   "outputs": [],
   "source": [
    "train_data = data.take(round(len(data)*0.70))\n",
    "\n",
    "train_data = train_data.batch(16)  #deviding mini-batches with 16 examples in each\n",
    "\n",
    "train_data = train_data.prefetch(8) #starts processing in advance\n",
    "\n",
    "# train = train_data.as_numpy_iterator()\n",
    "# train = train.next()\n",
    "# np.array(train).shape"
   ]
  },
  {
   "cell_type": "code",
   "execution_count": 20,
   "id": "4e72cb85",
   "metadata": {},
   "outputs": [],
   "source": [
    "test_data = data.skip(round(len(data)*0.70))\n",
    "\n",
    "test_data = data.take(round(len(data)*0.3))\n",
    "\n",
    "test_data = test_data.batch(16)\n",
    "\n",
    "test_data = test_data.prefetch(8)\n",
    "\n",
    "# test = test_data.as_numpy_iterator()\n",
    "# test = test.next()\n",
    "# np.array(test).shape"
   ]
  },
  {
   "cell_type": "markdown",
   "id": "b3260531",
   "metadata": {},
   "source": [
    "##### importing Loss function and Optimizer\n"
   ]
  },
  {
   "cell_type": "code",
   "execution_count": 21,
   "id": "23e439da",
   "metadata": {},
   "outputs": [],
   "source": [
    "loss_function = tf.losses.BinaryCrossentropy()\n",
    "optimizer = tf.keras.optimizers.Adam(1e-4)   #0.0001"
   ]
  },
  {
   "cell_type": "code",
   "execution_count": 22,
   "id": "6cdcccf9",
   "metadata": {},
   "outputs": [],
   "source": [
    "@tf.function \n",
    "\n",
    "def training_step(batch):\n",
    "    \n",
    "    with tf.GradientTape() as tape:\n",
    "        x = batch[:2]    #features of the model\n",
    "        \n",
    "        y = batch[2]     #taret of the model\n",
    "        \n",
    "        y_pred = siamese_model(x, training= True)\n",
    "        \n",
    "        loss = loss_function(y, y_pred)\n",
    "        \n",
    "    grad = tape.gradient(loss, siamese_model.trainable_variables)\n",
    "    \n",
    "    optimizer.apply_gradients(zip(grad,siamese_model.trainable_variables))\n",
    "    \n",
    "    return loss        \n",
    "        "
   ]
  },
  {
   "cell_type": "code",
   "execution_count": 23,
   "id": "1fc1d4b1",
   "metadata": {},
   "outputs": [],
   "source": [
    "def training(data, EPOCHS):\n",
    "    #loop trhough epochs\n",
    "    \n",
    "    for epoch in range(1, EPOCHS+1):\n",
    "        print('\\n Epoch {}/{}'.format(epoch, EPOCHS))\n",
    "        progbar = tf.keras.utils.Progbar(len(data))\n",
    "    \n",
    "        #Loop through each batch\n",
    "        for idx, batch in enumerate(data):\n",
    "            #Run train step here\n",
    "            x = training_step(batch)\n",
    "            \n",
    "#             print(x)\n",
    "            progbar.update(idx+1)      \n",
    "    print(x)"
   ]
  },
  {
   "cell_type": "markdown",
   "id": "b6a8e758",
   "metadata": {},
   "source": [
    "##### Train the model "
   ]
  },
  {
   "cell_type": "code",
   "execution_count": 24,
   "id": "e636cd15",
   "metadata": {
    "collapsed": true
   },
   "outputs": [
    {
     "name": "stdout",
     "output_type": "stream",
     "text": [
      "\n",
      " Epoch 1/1\n",
      "27/27 [==============================] - 589s 22s/step\n",
      "tf.Tensor(0.69612443, shape=(), dtype=float32)\n"
     ]
    }
   ],
   "source": [
    "EPOCHS = 50\n",
    "\n",
    "training(train_data, EPOCHS)"
   ]
  },
  {
   "cell_type": "markdown",
   "id": "aeaad9da",
   "metadata": {},
   "source": [
    "# 4. Model Evaluation\n"
   ]
  },
  {
   "cell_type": "code",
   "execution_count": 25,
   "id": "f4a071ae",
   "metadata": {},
   "outputs": [
    {
     "data": {
      "text/plain": [
       "array([1., 1., 0., 1., 1., 1., 0., 0., 0., 0., 0., 1., 1., 1., 0., 1.],\n",
       "      dtype=float32)"
      ]
     },
     "execution_count": 25,
     "metadata": {},
     "output_type": "execute_result"
    }
   ],
   "source": [
    "from tensorflow.keras.metrics import Precision, Recall\n",
    "\n",
    "test_input, test_validation, y_true = test_data.as_numpy_iterator().next()\n",
    "y_true"
   ]
  },
  {
   "cell_type": "code",
   "execution_count": 26,
   "id": "44dd5e97",
   "metadata": {},
   "outputs": [
    {
     "name": "stdout",
     "output_type": "stream",
     "text": [
      "1/1 [==============================] - 2s 2s/step\n"
     ]
    },
    {
     "data": {
      "text/plain": [
       "array([[0.5084913 ],\n",
       "       [0.50157595],\n",
       "       [0.509749  ],\n",
       "       [0.5009221 ],\n",
       "       [0.49781522],\n",
       "       [0.49943027],\n",
       "       [0.5221687 ],\n",
       "       [0.5298926 ],\n",
       "       [0.5191158 ],\n",
       "       [0.55764365],\n",
       "       [0.5579327 ],\n",
       "       [0.5140635 ],\n",
       "       [0.51055753],\n",
       "       [0.49956867],\n",
       "       [0.53418696],\n",
       "       [0.5449007 ]], dtype=float32)"
      ]
     },
     "execution_count": 26,
     "metadata": {},
     "output_type": "execute_result"
    }
   ],
   "source": [
    "y_pred = siamese_model.predict([test_input, test_validation])\n",
    "y_pred"
   ]
  },
  {
   "cell_type": "code",
   "execution_count": 28,
   "id": "0ba1b066",
   "metadata": {
    "collapsed": true
   },
   "outputs": [
    {
     "data": {
      "text/plain": [
       "[1, 1, 1, 1, 0, 0, 1, 1, 1, 1, 1, 1, 1, 0, 1, 1]"
      ]
     },
     "execution_count": 28,
     "metadata": {},
     "output_type": "execute_result"
    }
   ],
   "source": [
    "[1 if prediction >0.5 else 0 for prediction in yhat]"
   ]
  },
  {
   "cell_type": "code",
   "execution_count": 29,
   "id": "56d6f1b3",
   "metadata": {
    "collapsed": true
   },
   "outputs": [
    {
     "data": {
      "text/plain": [
       "0.6666667"
      ]
     },
     "execution_count": 29,
     "metadata": {},
     "output_type": "execute_result"
    }
   ],
   "source": [
    "m = Recall()\n",
    "\n",
    "#calculating recall value\n",
    "m.update_state(y_true, yhat)\n",
    "\n",
    "#accessing the result \n",
    "m.result().numpy()\n"
   ]
  },
  {
   "cell_type": "code",
   "execution_count": 30,
   "id": "f06579ca",
   "metadata": {
    "collapsed": true
   },
   "outputs": [
    {
     "data": {
      "text/plain": [
       "0.46153846"
      ]
     },
     "execution_count": 30,
     "metadata": {},
     "output_type": "execute_result"
    }
   ],
   "source": [
    "m = Precision()\n",
    "\n",
    "#calculating recall value\n",
    "m.update_state(y_true, yhat)\n",
    "\n",
    "#accessing the result \n",
    "m.result().numpy()"
   ]
  },
  {
   "cell_type": "markdown",
   "id": "9daf452f",
   "metadata": {},
   "source": [
    "# 5. Visualizing Results"
   ]
  },
  {
   "cell_type": "code",
   "execution_count": 31,
   "id": "6cb9ca07",
   "metadata": {},
   "outputs": [
    {
     "data": {
      "image/png": "[encoded data removed]",
      "text/plain": [
       "<Figure size 1200x800 with 2 Axes>"
      ]
     },
     "metadata": {},
     "output_type": "display_data"
    }
   ],
   "source": [
    "plt.figure(figsize=(12,8))\n",
    "\n",
    "plt.subplot(1,2,1)\n",
    "\n",
    "plt.imshow(test_input[1])\n",
    "\n",
    "plt.subplot(1,2,2)\n",
    "\n",
    "plt.imshow(test_validation[1])\n",
    "\n",
    "plt.show()"
   ]
  },
  {
   "cell_type": "markdown",
   "id": "5a93ac6f",
   "metadata": {},
   "source": [
    "# 6. Saving the Model\n"
   ]
  },
  {
   "cell_type": "code",
   "execution_count": 32,
   "id": "d5f67d83",
   "metadata": {
    "collapsed": true
   },
   "outputs": [
    {
     "name": "stdout",
     "output_type": "stream",
     "text": [
      "WARNING:tensorflow:Compiled the loaded model, but the compiled metrics have yet to be built. `model.compile_metrics` will be empty until you train or evaluate the model.\n"
     ]
    },
    {
     "name": "stderr",
     "output_type": "stream",
     "text": [
      "WARNING:absl:Found untraced functions such as _jit_compiled_convolution_op, _jit_compiled_convolution_op, _jit_compiled_convolution_op, _jit_compiled_convolution_op while saving (showing 4 of 4). These functions will not be directly callable after loading.\n"
     ]
    },
    {
     "name": "stdout",
     "output_type": "stream",
     "text": [
      "INFO:tensorflow:Assets written to: Siamese_Model_Face_Recognition\\assets\n"
     ]
    },
    {
     "name": "stderr",
     "output_type": "stream",
     "text": [
      "INFO:tensorflow:Assets written to: Siamese_Model_Face_Recognition\\assets\n"
     ]
    }
   ],
   "source": [
    "siamese_model.save('Siamese_Model_Face_Recognition')\n"
   ]
  },
  {
   "cell_type": "markdown",
   "id": "925770e2",
   "metadata": {},
   "source": [
    "# 7. Loading the Model"
   ]
  },
  {
   "cell_type": "code",
   "execution_count": 33,
   "id": "a0f1fc70",
   "metadata": {
    "collapsed": true
   },
   "outputs": [
    {
     "name": "stdout",
     "output_type": "stream",
     "text": [
      "WARNING:tensorflow:No training configuration found in save file, so the model was *not* compiled. Compile it manually.\n"
     ]
    },
    {
     "name": "stderr",
     "output_type": "stream",
     "text": [
      "WARNING:tensorflow:No training configuration found in save file, so the model was *not* compiled. Compile it manually.\n"
     ]
    }
   ],
   "source": [
    "model = tf.keras.models.load_model('Siamese_Model_Face_Recognition', custom_objects={'L1Distance':L1Distance, 'BinaryCrossentropy': tf.losses.BinaryCrossentropy})"
   ]
  },
  {
   "cell_type": "markdown",
   "id": "37744e65",
   "metadata": {},
   "source": [
    "# 8. Real Time Test and Evaluation"
   ]
  },
  {
   "cell_type": "markdown",
   "id": "a60473ee",
   "metadata": {},
   "source": [
    "##### First we want to copy 50 image from ou positive directory to a new directory called 'verification_image' ."
   ]
  },
  {
   "cell_type": "code",
   "execution_count": 34,
   "id": "cc02b1ef",
   "metadata": {},
   "outputs": [],
   "source": [
    "import shutil\n",
    " "
   ]
  },
  {
   "cell_type": "code",
   "execution_count": 36,
   "id": "f9889a11",
   "metadata": {},
   "outputs": [],
   "source": [
    "verification=  os.path.join('application_data', 'verification_image')\n",
    "os.makedirs(os.path.join('application_data', 'input_img'))\n",
    "os.makedirs(verification)\n"
   ]
  },
  {
   "cell_type": "code",
   "execution_count": 39,
   "id": "5bea5f06",
   "metadata": {},
   "outputs": [],
   "source": [
    "def number_of_verification_images(number):\n",
    "    \n",
    "    verification=  os.path.join('application_data', 'verification_image')\n",
    "    for file in os.listdir(verification):\n",
    "        file_path = os.path.join('application_data', 'verification_image', file)\n",
    "        if os.path.isfile(file_path):\n",
    "            os.unlink(file_path)\n",
    "\n",
    "\n",
    "    if not os.path.exists(verification):\n",
    "        verification = os.path.join('application_data', 'verification_image')\n",
    "        os.makedirs(verification)\n",
    "\n",
    "    image_files = os.listdir(Positive)\n",
    "    for i, image_file in enumerate(image_files):\n",
    "        if i >= number:\n",
    "            break           \n",
    "        source_path = os.path.join(Positive, image_file)\n",
    "        destination_path = os.path.join(verification, image_file)\n",
    "        shutil.copyfile(source_path, destination_path)\n",
    "        \n",
    "        \n",
    "    "
   ]
  },
  {
   "cell_type": "code",
   "execution_count": 45,
   "id": "061fba25",
   "metadata": {
    "code_folding": [
     1
    ]
   },
   "outputs": [],
   "source": [
    "def verify(model, detection_treshhold, vertification_treshhold, number_of_verification_image):\n",
    "#detection treshhold is the possibility of True outcome, meaning that the similarity between \n",
    "#input_img and validation_img should be more than detection_treshhold in order to consider as True outcome \n",
    "    \n",
    "    number_of_verification_images(number_of_verification_image)\n",
    "    \n",
    "    results= []\n",
    "    \n",
    "    for image in os.listdir(os.path.join('application_data', 'verification_image')):\n",
    "        input_img = processing((os.path.join('application_data','input_img','input_image.jpg')))\n",
    "        validation_img = processing(os.path.join('application_data','verification_image', image))\n",
    "        \n",
    "        result = model.predict(list(np.expand_dims([input_img, validation_img], axis=1)))        \n",
    "        results.append(result)\n",
    "    \n",
    "    detection = np.sum(np.array(results)>detection_treshhold)    #it returns True or False and counts the number of Trues.\n",
    "    \n",
    "    verificationrate = detection/number_of_verification_image\n",
    "    verified = verificationrate>vertification_treshhold\n",
    "        \n",
    "    return results, verified"
   ]
  },
  {
   "cell_type": "markdown",
   "id": "9e08b10e",
   "metadata": {},
   "source": [
    "# OpenCV Real Time Test"
   ]
  },
  {
   "cell_type": "code",
   "execution_count": 46,
   "id": "70bfc79c",
   "metadata": {
    "collapsed": true
   },
   "outputs": [
    {
     "name": "stdout",
     "output_type": "stream",
     "text": [
      "1/1 [==============================] - 0s 263ms/step\n",
      "1/1 [==============================] - 0s 319ms/step\n",
      "1/1 [==============================] - 0s 327ms/step\n",
      "1/1 [==============================] - 0s 365ms/step\n",
      "1/1 [==============================] - 0s 324ms/step\n",
      "1/1 [==============================] - 0s 292ms/step\n",
      "1/1 [==============================] - 0s 285ms/step\n",
      "1/1 [==============================] - 0s 290ms/step\n",
      "1/1 [==============================] - 0s 333ms/step\n",
      "1/1 [==============================] - 0s 239ms/step\n",
      "1/1 [==============================] - 0s 286ms/step\n",
      "1/1 [==============================] - 0s 317ms/step\n",
      "1/1 [==============================] - 0s 279ms/step\n",
      "1/1 [==============================] - 0s 273ms/step\n",
      "1/1 [==============================] - 0s 276ms/step\n",
      "1/1 [==============================] - 0s 283ms/step\n",
      "1/1 [==============================] - 0s 274ms/step\n",
      "1/1 [==============================] - 0s 273ms/step\n",
      "1/1 [==============================] - 0s 292ms/step\n",
      "1/1 [==============================] - 0s 270ms/step\n",
      "1/1 [==============================] - 0s 253ms/step\n",
      "1/1 [==============================] - 0s 282ms/step\n",
      "1/1 [==============================] - 0s 252ms/step\n",
      "1/1 [==============================] - 0s 272ms/step\n",
      "1/1 [==============================] - 0s 323ms/step\n",
      "1/1 [==============================] - 0s 292ms/step\n",
      "1/1 [==============================] - 0s 285ms/step\n",
      "1/1 [==============================] - 0s 294ms/step\n",
      "1/1 [==============================] - 0s 303ms/step\n",
      "1/1 [==============================] - 0s 313ms/step\n",
      "1/1 [==============================] - 0s 319ms/step\n",
      "1/1 [==============================] - 0s 300ms/step\n",
      "1/1 [==============================] - 0s 302ms/step\n",
      "1/1 [==============================] - 0s 294ms/step\n",
      "1/1 [==============================] - 0s 274ms/step\n",
      "1/1 [==============================] - 0s 301ms/step\n",
      "1/1 [==============================] - 0s 339ms/step\n",
      "1/1 [==============================] - 0s 269ms/step\n",
      "1/1 [==============================] - 0s 332ms/step\n",
      "1/1 [==============================] - 0s 279ms/step\n",
      "1/1 [==============================] - 0s 272ms/step\n",
      "1/1 [==============================] - 0s 264ms/step\n",
      "1/1 [==============================] - 0s 273ms/step\n",
      "1/1 [==============================] - 0s 272ms/step\n",
      "1/1 [==============================] - 0s 273ms/step\n",
      "1/1 [==============================] - 0s 271ms/step\n",
      "1/1 [==============================] - 0s 267ms/step\n",
      "1/1 [==============================] - 0s 304ms/step\n",
      "1/1 [==============================] - 0s 273ms/step\n",
      "1/1 [==============================] - 0s 272ms/step\n",
      "True\n",
      "1/1 [==============================] - 0s 285ms/step\n",
      "1/1 [==============================] - 0s 282ms/step\n",
      "1/1 [==============================] - 0s 301ms/step\n",
      "1/1 [==============================] - 0s 365ms/step\n",
      "1/1 [==============================] - 0s 305ms/step\n",
      "1/1 [==============================] - 0s 354ms/step\n",
      "1/1 [==============================] - 0s 310ms/step\n",
      "1/1 [==============================] - 0s 294ms/step\n",
      "1/1 [==============================] - 0s 299ms/step\n",
      "1/1 [==============================] - 0s 297ms/step\n",
      "1/1 [==============================] - 0s 314ms/step\n",
      "1/1 [==============================] - 0s 313ms/step\n",
      "1/1 [==============================] - 0s 285ms/step\n",
      "1/1 [==============================] - 0s 253ms/step\n",
      "1/1 [==============================] - 0s 279ms/step\n",
      "1/1 [==============================] - 0s 338ms/step\n",
      "1/1 [==============================] - 0s 337ms/step\n",
      "1/1 [==============================] - 0s 384ms/step\n",
      "1/1 [==============================] - 0s 304ms/step\n",
      "1/1 [==============================] - 0s 382ms/step\n",
      "1/1 [==============================] - 0s 280ms/step\n",
      "1/1 [==============================] - 0s 271ms/step\n",
      "1/1 [==============================] - 0s 311ms/step\n",
      "1/1 [==============================] - 0s 288ms/step\n",
      "1/1 [==============================] - 0s 285ms/step\n",
      "1/1 [==============================] - 0s 276ms/step\n",
      "1/1 [==============================] - 0s 247ms/step\n",
      "1/1 [==============================] - 0s 265ms/step\n",
      "1/1 [==============================] - 0s 294ms/step\n",
      "1/1 [==============================] - 0s 329ms/step\n",
      "1/1 [==============================] - 0s 255ms/step\n",
      "1/1 [==============================] - 0s 300ms/step\n",
      "1/1 [==============================] - 0s 279ms/step\n",
      "1/1 [==============================] - 0s 302ms/step\n",
      "1/1 [==============================] - 0s 382ms/step\n",
      "1/1 [==============================] - 0s 317ms/step\n",
      "1/1 [==============================] - 0s 263ms/step\n",
      "1/1 [==============================] - 0s 283ms/step\n",
      "1/1 [==============================] - 0s 278ms/step\n",
      "1/1 [==============================] - 0s 285ms/step\n",
      "1/1 [==============================] - 0s 272ms/step\n",
      "1/1 [==============================] - 0s 265ms/step\n",
      "1/1 [==============================] - 0s 273ms/step\n",
      "1/1 [==============================] - 0s 272ms/step\n",
      "1/1 [==============================] - 0s 301ms/step\n",
      "1/1 [==============================] - 0s 301ms/step\n",
      "1/1 [==============================] - 0s 331ms/step\n",
      "1/1 [==============================] - 0s 301ms/step\n",
      "1/1 [==============================] - 0s 311ms/step\n",
      "1/1 [==============================] - 0s 356ms/step\n",
      "True\n",
      "1/1 [==============================] - 0s 339ms/step\n",
      "1/1 [==============================] - 0s 458ms/step\n",
      "1/1 [==============================] - 1s 516ms/step\n",
      "1/1 [==============================] - 0s 369ms/step\n",
      "1/1 [==============================] - 0s 332ms/step\n",
      "1/1 [==============================] - 0s 373ms/step\n",
      "1/1 [==============================] - 0s 367ms/step\n",
      "1/1 [==============================] - 0s 388ms/step\n",
      "1/1 [==============================] - 0s 332ms/step\n",
      "1/1 [==============================] - 0s 379ms/step\n",
      "1/1 [==============================] - 0s 300ms/step\n",
      "1/1 [==============================] - 0s 349ms/step\n",
      "1/1 [==============================] - 0s 398ms/step\n",
      "1/1 [==============================] - 0s 326ms/step\n",
      "1/1 [==============================] - 0s 312ms/step\n",
      "1/1 [==============================] - 0s 381ms/step\n",
      "1/1 [==============================] - 0s 369ms/step\n",
      "1/1 [==============================] - 0s 326ms/step\n",
      "1/1 [==============================] - 0s 308ms/step\n",
      "1/1 [==============================] - 0s 314ms/step\n",
      "1/1 [==============================] - 0s 332ms/step\n",
      "1/1 [==============================] - 0s 287ms/step\n",
      "1/1 [==============================] - 0s 301ms/step\n",
      "1/1 [==============================] - 0s 321ms/step\n",
      "1/1 [==============================] - 0s 349ms/step\n",
      "1/1 [==============================] - 0s 294ms/step\n",
      "1/1 [==============================] - 0s 285ms/step\n",
      "1/1 [==============================] - 0s 315ms/step\n",
      "1/1 [==============================] - 0s 316ms/step\n",
      "1/1 [==============================] - 0s 321ms/step\n",
      "1/1 [==============================] - 0s 305ms/step\n",
      "1/1 [==============================] - 0s 356ms/step\n",
      "1/1 [==============================] - 0s 344ms/step\n",
      "1/1 [==============================] - 0s 317ms/step\n",
      "1/1 [==============================] - 0s 315ms/step\n",
      "1/1 [==============================] - 0s 300ms/step\n",
      "1/1 [==============================] - 0s 334ms/step\n",
      "1/1 [==============================] - 0s 405ms/step\n",
      "1/1 [==============================] - 0s 359ms/step\n",
      "1/1 [==============================] - 0s 343ms/step\n",
      "1/1 [==============================] - 0s 351ms/step\n",
      "1/1 [==============================] - 0s 370ms/step\n",
      "1/1 [==============================] - 0s 328ms/step\n",
      "1/1 [==============================] - 0s 445ms/step\n",
      "1/1 [==============================] - 0s 306ms/step\n",
      "1/1 [==============================] - 0s 279ms/step\n",
      "1/1 [==============================] - 0s 370ms/step\n",
      "1/1 [==============================] - 0s 316ms/step\n",
      "1/1 [==============================] - 0s 332ms/step\n",
      "1/1 [==============================] - 0s 298ms/step\n",
      "True\n"
     ]
    }
   ],
   "source": [
    "import cv2\n",
    "cap = cv2.VideoCapture(0)\n",
    "\n",
    "while cap.isOpened():\n",
    "    ret, frame = cap.read()\n",
    "    if ret:\n",
    "        frame = frame[120:120+250,200:200+250,:]  #we deine which part of the picture to put on the frame\n",
    "\n",
    "    cv2.imshow('Verification', frame)\n",
    "    \n",
    "    if cv2.waitKey(10) & 0xFF ==ord('c'):\n",
    "        imgname = os.path.join('application_data', 'input_img','input_image.jpg')\n",
    "\n",
    "        #save input image into input image folder\n",
    "        cv2.imwrite(imgname, frame)\n",
    "        \n",
    "        results, verified = verify(model, 0.5,0.5, 50)\n",
    "        print(verified)\n",
    "  \n",
    "    \n",
    "    if cv2.waitKey(10) & 0xFF ==ord('q'):\n",
    "        break\n",
    "cap.release()\n",
    "cv2.destroyAllWindows()"
   ]
  },
  {
   "cell_type": "code",
   "execution_count": null,
   "id": "4bb30c18",
   "metadata": {},
   "outputs": [],
   "source": []
  }
 ],
 "metadata": {
  "kernelspec": {
   "display_name": "Python 3 (ipykernel)",
   "language": "python",
   "name": "python3"
  },
  "language_info": {
   "codemirror_mode": {
    "name": "ipython",
    "version": 3
   },
   "file_extension": ".py",
   "mimetype": "text/x-python",
   "name": "python",
   "nbconvert_exporter": "python",
   "pygments_lexer": "ipython3",
   "version": "3.9.13"
  }
 },
 "nbformat": 4,
 "nbformat_minor": 5
}
